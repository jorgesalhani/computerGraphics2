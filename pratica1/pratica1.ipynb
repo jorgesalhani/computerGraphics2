{
 "cells": [
  {
   "cell_type": "code",
   "execution_count": 23,
   "metadata": {},
   "outputs": [
    {
     "name": "stdout",
     "output_type": "stream",
     "text": [
      "Requirement already satisfied: pyopengl in c:\\users\\jorge\\appdata\\local\\programs\\python\\python311\\lib\\site-packages (3.1.9)\n"
     ]
    },
    {
     "name": "stderr",
     "output_type": "stream",
     "text": [
      "\n",
      "[notice] A new release of pip is available: 24.3.1 -> 25.0.1\n",
      "[notice] To update, run: python.exe -m pip install --upgrade pip\n"
     ]
    },
    {
     "name": "stdout",
     "output_type": "stream",
     "text": [
      "Requirement already satisfied: glfw in c:\\users\\jorge\\appdata\\local\\programs\\python\\python311\\lib\\site-packages (2.8.0)\n"
     ]
    },
    {
     "name": "stderr",
     "output_type": "stream",
     "text": [
      "\n",
      "[notice] A new release of pip is available: 24.3.1 -> 25.0.1\n",
      "[notice] To update, run: python.exe -m pip install --upgrade pip\n"
     ]
    },
    {
     "name": "stdout",
     "output_type": "stream",
     "text": [
      "Requirement already satisfied: pyglm in c:\\users\\jorge\\appdata\\local\\programs\\python\\python311\\lib\\site-packages (2.8.0)\n"
     ]
    },
    {
     "name": "stderr",
     "output_type": "stream",
     "text": [
      "\n",
      "[notice] A new release of pip is available: 24.3.1 -> 25.0.1\n",
      "[notice] To update, run: python.exe -m pip install --upgrade pip\n"
     ]
    }
   ],
   "source": [
    "!pip install pyopengl\n",
    "!pip install glfw\n",
    "!pip install pyglm"
   ]
  },
  {
   "cell_type": "code",
   "execution_count": 1,
   "metadata": {},
   "outputs": [],
   "source": [
    "import glfw\n",
    "from OpenGL.GL import *\n",
    "import OpenGL.GL.shaders\n",
    "import numpy as np\n",
    "import glm"
   ]
  },
  {
   "cell_type": "code",
   "execution_count": 2,
   "metadata": {},
   "outputs": [],
   "source": [
    "# Inicializando uma janela\n",
    "\n",
    "glfw.init()\n",
    "glfw.window_hint(glfw.VISIBLE, glfw.FALSE)\n",
    "window = glfw.create_window(720, 600, \"Programa\", None, None)\n",
    "\n",
    "if (window == None):\n",
    "  print('Falha em criar janela GLFW')\n",
    "  glfw.terminate()\n",
    "\n",
    "glfw.make_context_current(window=window)"
   ]
  },
  {
   "cell_type": "code",
   "execution_count": 3,
   "metadata": {},
   "outputs": [],
   "source": [
    "vertex_code = \"\"\"\n",
    "attribute vec2 position;\n",
    "uniform mat4 mat_transformation;\n",
    "\n",
    "void main() {\n",
    "  gl_Position = mat_transformation * vec4(position, 0.0, 1.0);\n",
    "}\n",
    "\"\"\""
   ]
  },
  {
   "cell_type": "code",
   "execution_count": 4,
   "metadata": {},
   "outputs": [],
   "source": [
    "fragment_code = \"\"\"\n",
    "uniform vec4 color;\n",
    "void main() {\n",
    "  gl_FragColor = color;\n",
    "}\n",
    "\"\"\""
   ]
  },
  {
   "cell_type": "code",
   "execution_count": 5,
   "metadata": {},
   "outputs": [],
   "source": [
    "# Requisitando slot para GPU\n",
    "program = glCreateProgram()\n",
    "vertex = glCreateShader(GL_VERTEX_SHADER)\n",
    "fragment = glCreateShader(GL_FRAGMENT_SHADER)"
   ]
  },
  {
   "cell_type": "code",
   "execution_count": 6,
   "metadata": {},
   "outputs": [],
   "source": [
    "# Associando código aos slots solicitados\n",
    "glShaderSource(vertex, vertex_code)\n",
    "glShaderSource(fragment, fragment_code)"
   ]
  },
  {
   "cell_type": "code",
   "execution_count": 7,
   "metadata": {},
   "outputs": [],
   "source": [
    "# Compilando Vertex shader\n",
    "glCompileShader(vertex)\n",
    "if not glGetShaderiv(vertex, GL_COMPILE_STATUS):\n",
    "  error = glGetShaderInfoLog(vertex).decode()\n",
    "  print(error)\n",
    "  raise RuntimeError('Erro de compilação de Vertex Shader')"
   ]
  },
  {
   "cell_type": "code",
   "execution_count": 8,
   "metadata": {},
   "outputs": [],
   "source": [
    "# Compilando Fragment shader\n",
    "glCompileShader(fragment)\n",
    "if not glGetShaderiv(fragment, GL_COMPILE_STATUS):\n",
    "  error = glGetShaderInfoLog(fragment).decode()\n",
    "  print(error)\n",
    "  raise RuntimeError('Erro de compilação de Fragment Shader')"
   ]
  },
  {
   "cell_type": "code",
   "execution_count": 9,
   "metadata": {},
   "outputs": [],
   "source": [
    "# Associando programas compilados ao programa principal\n",
    "glAttachShader(program, vertex)\n",
    "glAttachShader(program, fragment)"
   ]
  },
  {
   "cell_type": "code",
   "execution_count": 10,
   "metadata": {},
   "outputs": [],
   "source": [
    "# Associando ao programa principal\n",
    "glLinkProgram(program)\n",
    "if not glGetProgramiv(program, GL_LINK_STATUS):\n",
    "  print(glGetProgramInfoLog(program))\n",
    "  raise RuntimeError('Erro de link ao programa principal')\n",
    "\n",
    "glUseProgram(program)"
   ]
  },
  {
   "cell_type": "code",
   "execution_count": 11,
   "metadata": {},
   "outputs": [],
   "source": [
    "# Preparando dados (na CPU) para envio à GPU\n",
    "\n",
    "vertices = np.zeros(3, [('position', np.float32, 2)])\n",
    "\n",
    "vertices['position'] = [\n",
    "  (+0.05, -0.05),\n",
    "  (+0.05, +0.05),\n",
    "  (-0.05, -0.05)\n",
    "]"
   ]
  },
  {
   "cell_type": "code",
   "execution_count": 12,
   "metadata": {},
   "outputs": [],
   "source": [
    "# Envio de dados à GPU\n",
    "buffer_VBO = glGenBuffers(1)\n",
    "glBindBuffer(GL_ARRAY_BUFFER, buffer_VBO)\n",
    "\n",
    "glBufferData(GL_ARRAY_BUFFER, vertices.nbytes, vertices, GL_DYNAMIC_DRAW)\n",
    "glBindBuffer(GL_ARRAY_BUFFER, buffer_VBO)"
   ]
  },
  {
   "cell_type": "code",
   "execution_count": 13,
   "metadata": {},
   "outputs": [],
   "source": [
    "# Associando dados ao vertex shader\n",
    "stride = vertices.strides[0]\n",
    "offset = ctypes.c_void_p(0)"
   ]
  },
  {
   "cell_type": "code",
   "execution_count": 14,
   "metadata": {},
   "outputs": [],
   "source": [
    "# Obtendo position, variavel definida no vertex shader\n",
    "loc = glGetAttribLocation(program, \"position\")\n",
    "glEnableVertexAttribArray(loc)"
   ]
  },
  {
   "cell_type": "code",
   "execution_count": 15,
   "metadata": {},
   "outputs": [],
   "source": [
    "glVertexAttribPointer(loc, 2, GL_FLOAT, False, stride, offset)"
   ]
  },
  {
   "cell_type": "code",
   "execution_count": 16,
   "metadata": {},
   "outputs": [],
   "source": [
    "loc_color = glGetUniformLocation(program, 'color')\n",
    "R = 0.7\n",
    "G = 0.0\n",
    "B = 0.2"
   ]
  },
  {
   "cell_type": "code",
   "execution_count": 17,
   "metadata": {},
   "outputs": [],
   "source": [
    "def multiplica_matriz(a,b):\n",
    "  m_a = a.reshape(4,4)\n",
    "  m_b = b.reshape(4,4)\n",
    "  m_c = np.dot(m_a, m_b)\n",
    "  c = m_c.reshape(1,16)\n",
    "  return c"
   ]
  },
  {
   "cell_type": "code",
   "execution_count": 18,
   "metadata": {},
   "outputs": [],
   "source": [
    "import math\n",
    "\n",
    "def rotaciona(angulo):\n",
    "  c = math.cos(angulo)\n",
    "  s = math.sin(angulo)\n",
    "\n",
    "  mat_rotation = np.array([\n",
    "    c, -s, 0.0, 0.0,\n",
    "    +s, c, 0.0, 0.0,\n",
    "    0.0, 0.0, 1.0, 0.0,\n",
    "    0.0, 0.0, 0.0, 1.0 \n",
    "  ], np.float32)\n",
    "\n",
    "  return mat_rotation"
   ]
  },
  {
   "cell_type": "code",
   "execution_count": 19,
   "metadata": {},
   "outputs": [],
   "source": [
    "def escala(sx, sy):\n",
    "  mat_escala = np.array([\n",
    "    sx, 0.0, 0.0, 0.0,\n",
    "    0.0, sy, 0.0, 0.0,\n",
    "    0.0, 0.0, 1.0, 0.0,\n",
    "    0.0, 0.0, 0.0, 1.0 \n",
    "  ])\n",
    "\n",
    "  return mat_escala"
   ]
  },
  {
   "cell_type": "code",
   "execution_count": 20,
   "metadata": {},
   "outputs": [],
   "source": [
    "def translada(tx, ty):\n",
    "  mat_escala = np.array([\n",
    "    1.0, 0.0, 0.0, tx,\n",
    "    0.0, 1.0, 0.0, ty,\n",
    "    0.0, 0.0, 1.0, 0.0,\n",
    "    0.0, 0.0, 0.0, 1.0 \n",
    "  ])\n",
    "\n",
    "  return mat_escala"
   ]
  },
  {
   "cell_type": "code",
   "execution_count": 21,
   "metadata": {},
   "outputs": [],
   "source": [
    "# Capturando eventos do teclado\n",
    "def key_event(window, key, scancode, action, mods):\n",
    "  global t_x, t_y, theta, scale_fac\n",
    "  \n",
    "  # translado\n",
    "  if key == 265: t_y += 0.01 # tecla cima\n",
    "  if key == 264: t_y -= 0.01 # tecla baixo\n",
    "  if key == 263: t_x -= 0.01 # tecla direita\n",
    "  if key == 262: t_x += 0.01 # tecla esquerda\n",
    "\n",
    "  # rotacao\n",
    "  if key == 65: theta += 0.1 # tecla a\n",
    "  if key == 83: theta -= 0.1 # tecla s\n",
    "\n",
    "  # escala\n",
    "  if key == 90: scale_fac += 0.01 # tecla z\n",
    "  if key == 88: scale_fac -= 0.01 # tecla x\n",
    "\n",
    "\n",
    "glfw.set_key_callback(window, key_event)"
   ]
  },
  {
   "cell_type": "code",
   "execution_count": 22,
   "metadata": {},
   "outputs": [],
   "source": [
    "glfw.show_window(window)\n",
    "\n",
    "t_x = 0\n",
    "t_y = 0\n",
    "theta = 0\n",
    "scale_fac = 1\n",
    "\n",
    "while not glfw.window_should_close(window):\n",
    "  glClear(GL_COLOR_BUFFER_BIT)\n",
    "  glClearColor(1.0, 1.0, 1.0, 1.0)\n",
    "\n",
    "  mat_transform = multiplica_matriz(escala(scale_fac, scale_fac), rotaciona(theta))\n",
    "  mat_transform = multiplica_matriz(translada(t_x, t_y), mat_transform)\n",
    "\n",
    "  loc = glGetUniformLocation(program, 'mat_transformation')\n",
    "\n",
    "  glUniformMatrix4fv(loc, 1, GL_TRUE, mat_transform)\n",
    "  glDrawArrays(GL_TRIANGLE_STRIP, 0, 4)\n",
    "  glUniform4f(loc_color, R, G, B, 1.0)\n",
    "\n",
    "  glfw.swap_buffers(window)\n",
    "  glfw.poll_events()\n",
    "\n",
    "glfw.terminate()"
   ]
  },
  {
   "cell_type": "code",
   "execution_count": null,
   "metadata": {},
   "outputs": [],
   "source": []
  }
 ],
 "metadata": {
  "kernelspec": {
   "display_name": "Python 3",
   "language": "python",
   "name": "python3"
  },
  "language_info": {
   "codemirror_mode": {
    "name": "ipython",
    "version": 3
   },
   "file_extension": ".py",
   "mimetype": "text/x-python",
   "name": "python",
   "nbconvert_exporter": "python",
   "pygments_lexer": "ipython3",
   "version": "3.11.1"
  }
 },
 "nbformat": 4,
 "nbformat_minor": 2
}
